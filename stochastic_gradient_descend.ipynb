{
  "nbformat": 4,
  "nbformat_minor": 0,
  "metadata": {
    "colab": {
      "name": "stochastic_gradient_descend.ipynb",
      "provenance": [],
      "authorship_tag": "ABX9TyOSHjxdPYiRaZGXEY9tK595",
      "include_colab_link": true
    },
    "kernelspec": {
      "name": "python3",
      "display_name": "Python 3"
    }
  },
  "cells": [
    {
      "cell_type": "markdown",
      "metadata": {
        "id": "view-in-github",
        "colab_type": "text"
      },
      "source": [
        "<a href=\"https://colab.research.google.com/github/vicente-gonzalez-ruiz/gradient_decend/blob/master/stochastic_gradient_descend.ipynb\" target=\"_parent\"><img src=\"https://colab.research.google.com/assets/colab-badge.svg\" alt=\"Open In Colab\"/></a>"
      ]
    },
    {
      "cell_type": "markdown",
      "metadata": {
        "id": "6OIo3UIi1Gl1",
        "colab_type": "text"
      },
      "source": [
        "# Batch\n",
        "In the context of gradient descend, a batch is a set of examples used to compute the gradient."
      ]
    },
    {
      "cell_type": "markdown",
      "metadata": {
        "id": "UIl70ILb1YRQ",
        "colab_type": "text"
      },
      "source": [
        "# Redundancy in the data set\n",
        "Usually, use the complete training data set $D$ as a batch is not useful because if $||D||$ is very big, probably it contains redundant data that is not going to modify the gradient. Therefore, full-batch gradient descend is usually not used."
      ]
    },
    {
      "cell_type": "markdown",
      "metadata": {
        "id": "MGweq6ca2BBQ",
        "colab_type": "text"
      },
      "source": [
        "# Stochasting Gradient Decend (SGD)\n",
        "In SGD, the batch size is 1. Unfortunatelly, \"pure\" SGD is very sensitive to the noise in $D$."
      ]
    },
    {
      "cell_type": "markdown",
      "metadata": {
        "id": "oxZSsz0X26Ze",
        "colab_type": "text"
      },
      "source": [
        "# Mini-batch SGD\n",
        "In Mini-batch SGD, the batch size is usually a small number (between 10 and 1000), and the examples are chosen at random."
      ]
    },
    {
      "cell_type": "code",
      "metadata": {
        "id": "FuxW3UKo0_xh",
        "colab_type": "code",
        "colab": {}
      },
      "source": [
        ""
      ],
      "execution_count": 0,
      "outputs": []
    }
  ]
}